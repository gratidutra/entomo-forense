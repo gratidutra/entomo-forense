{
 "cells": [
  {
   "cell_type": "code",
   "execution_count": 35,
   "metadata": {},
   "outputs": [],
   "source": [
    "import pandas as pd \n",
    "from dython.nominal import associations\n",
    "import matplotlib as plt"
   ]
  },
  {
   "cell_type": "code",
   "execution_count": 36,
   "metadata": {},
   "outputs": [
    {
     "data": {
      "text/html": [
       "<div>\n",
       "<style scoped>\n",
       "    .dataframe tbody tr th:only-of-type {\n",
       "        vertical-align: middle;\n",
       "    }\n",
       "\n",
       "    .dataframe tbody tr th {\n",
       "        vertical-align: top;\n",
       "    }\n",
       "\n",
       "    .dataframe thead th {\n",
       "        text-align: right;\n",
       "    }\n",
       "</style>\n",
       "<table border=\"1\" class=\"dataframe\">\n",
       "  <thead>\n",
       "    <tr style=\"text-align: right;\">\n",
       "      <th></th>\n",
       "      <th>ID_do_caso</th>\n",
       "      <th>especie</th>\n",
       "      <th>data_ a_coleta</th>\n",
       "      <th>estacao</th>\n",
       "      <th>abundancia</th>\n",
       "      <th>municipio</th>\n",
       "      <th>Sexo</th>\n",
       "      <th>zona_nao urbana_urbana</th>\n",
       "      <th>estagios_de_decomposicao</th>\n",
       "      <th>indoor_outdoor</th>\n",
       "      <th>recolonizacao</th>\n",
       "      <th>temp_media_da_data_do_encontro</th>\n",
       "      <th>temp_med_7_dias_da_data_do_encontro</th>\n",
       "      <th>umidade_media_da_data_do_encontro</th>\n",
       "      <th>umd_med_7_dias_da_data_do_encontro</th>\n",
       "      <th>chuva_acumulada_em_24h</th>\n",
       "      <th>chuva_acumulada_7_dias</th>\n",
       "      <th>Estacao_Met_Aut</th>\n",
       "      <th>estacao.1</th>\n",
       "    </tr>\n",
       "  </thead>\n",
       "  <tbody>\n",
       "    <tr>\n",
       "      <th>0</th>\n",
       "      <td>Caso 1</td>\n",
       "      <td>C. albiceps</td>\n",
       "      <td>26/01/2021</td>\n",
       "      <td>chuvosa</td>\n",
       "      <td>6</td>\n",
       "      <td>Aparecida do Rio Negro</td>\n",
       "      <td>MASCULINO</td>\n",
       "      <td>nao urbana</td>\n",
       "      <td>gasoso</td>\n",
       "      <td>NaN</td>\n",
       "      <td>N</td>\n",
       "      <td>26.7</td>\n",
       "      <td>26.89</td>\n",
       "      <td>75.1</td>\n",
       "      <td>72.33</td>\n",
       "      <td>8.2</td>\n",
       "      <td>16.8</td>\n",
       "      <td>Palmas</td>\n",
       "      <td>chuvosa</td>\n",
       "    </tr>\n",
       "    <tr>\n",
       "      <th>1</th>\n",
       "      <td>Caso 1</td>\n",
       "      <td>C. putoria</td>\n",
       "      <td>26/01/2021</td>\n",
       "      <td>chuvosa</td>\n",
       "      <td>1</td>\n",
       "      <td>Aparecida do Rio Negro</td>\n",
       "      <td>MASCULINO</td>\n",
       "      <td>nao urbana</td>\n",
       "      <td>gasoso</td>\n",
       "      <td>NaN</td>\n",
       "      <td>N</td>\n",
       "      <td>26.7</td>\n",
       "      <td>26.89</td>\n",
       "      <td>75.1</td>\n",
       "      <td>72.33</td>\n",
       "      <td>8.2</td>\n",
       "      <td>16.8</td>\n",
       "      <td>Palmas</td>\n",
       "      <td>chuvosa</td>\n",
       "    </tr>\n",
       "    <tr>\n",
       "      <th>2</th>\n",
       "      <td>Caso 1</td>\n",
       "      <td>H. illucens</td>\n",
       "      <td>26/01/2021</td>\n",
       "      <td>chuvosa</td>\n",
       "      <td>3</td>\n",
       "      <td>Aparecida do Rio Negro</td>\n",
       "      <td>MASCULINO</td>\n",
       "      <td>nao urbana</td>\n",
       "      <td>gasoso</td>\n",
       "      <td>NaN</td>\n",
       "      <td>N</td>\n",
       "      <td>26.7</td>\n",
       "      <td>26.89</td>\n",
       "      <td>75.1</td>\n",
       "      <td>72.33</td>\n",
       "      <td>8.2</td>\n",
       "      <td>16.8</td>\n",
       "      <td>Palmas</td>\n",
       "      <td>chuvosa</td>\n",
       "    </tr>\n",
       "    <tr>\n",
       "      <th>3</th>\n",
       "      <td>Caso 1</td>\n",
       "      <td>Peckia lambens</td>\n",
       "      <td>26/01/2021</td>\n",
       "      <td>chuvosa</td>\n",
       "      <td>1</td>\n",
       "      <td>Aparecida do Rio Negro</td>\n",
       "      <td>MASCULINO</td>\n",
       "      <td>nao urbana</td>\n",
       "      <td>gasoso</td>\n",
       "      <td>NaN</td>\n",
       "      <td>N</td>\n",
       "      <td>26.7</td>\n",
       "      <td>26.89</td>\n",
       "      <td>75.1</td>\n",
       "      <td>72.33</td>\n",
       "      <td>8.2</td>\n",
       "      <td>16.8</td>\n",
       "      <td>Palmas</td>\n",
       "      <td>chuvosa</td>\n",
       "    </tr>\n",
       "    <tr>\n",
       "      <th>4</th>\n",
       "      <td>Caso 1</td>\n",
       "      <td>P. trivittata</td>\n",
       "      <td>26/01/2021</td>\n",
       "      <td>chuvosa</td>\n",
       "      <td>4</td>\n",
       "      <td>Aparecida do Rio Negro</td>\n",
       "      <td>MASCULINO</td>\n",
       "      <td>nao urbana</td>\n",
       "      <td>gasoso</td>\n",
       "      <td>NaN</td>\n",
       "      <td>N</td>\n",
       "      <td>26.7</td>\n",
       "      <td>26.89</td>\n",
       "      <td>75.1</td>\n",
       "      <td>72.33</td>\n",
       "      <td>8.2</td>\n",
       "      <td>16.8</td>\n",
       "      <td>Palmas</td>\n",
       "      <td>chuvosa</td>\n",
       "    </tr>\n",
       "  </tbody>\n",
       "</table>\n",
       "</div>"
      ],
      "text/plain": [
       "  ID_do_caso         especie data_ a_coleta  estacao  abundancia  \\\n",
       "0     Caso 1     C. albiceps     26/01/2021  chuvosa           6   \n",
       "1     Caso 1      C. putoria     26/01/2021  chuvosa           1   \n",
       "2     Caso 1     H. illucens     26/01/2021  chuvosa           3   \n",
       "3     Caso 1  Peckia lambens     26/01/2021  chuvosa           1   \n",
       "4     Caso 1   P. trivittata     26/01/2021  chuvosa           4   \n",
       "\n",
       "                municipio       Sexo zona_nao urbana_urbana  \\\n",
       "0  Aparecida do Rio Negro  MASCULINO             nao urbana   \n",
       "1  Aparecida do Rio Negro  MASCULINO             nao urbana   \n",
       "2  Aparecida do Rio Negro  MASCULINO             nao urbana   \n",
       "3  Aparecida do Rio Negro  MASCULINO             nao urbana   \n",
       "4  Aparecida do Rio Negro  MASCULINO             nao urbana   \n",
       "\n",
       "  estagios_de_decomposicao  indoor_outdoor recolonizacao  \\\n",
       "0                   gasoso             NaN             N   \n",
       "1                   gasoso             NaN             N   \n",
       "2                   gasoso             NaN             N   \n",
       "3                   gasoso             NaN             N   \n",
       "4                   gasoso             NaN             N   \n",
       "\n",
       "   temp_media_da_data_do_encontro  temp_med_7_dias_da_data_do_encontro  \\\n",
       "0                            26.7                                26.89   \n",
       "1                            26.7                                26.89   \n",
       "2                            26.7                                26.89   \n",
       "3                            26.7                                26.89   \n",
       "4                            26.7                                26.89   \n",
       "\n",
       "   umidade_media_da_data_do_encontro  umd_med_7_dias_da_data_do_encontro  \\\n",
       "0                               75.1                               72.33   \n",
       "1                               75.1                               72.33   \n",
       "2                               75.1                               72.33   \n",
       "3                               75.1                               72.33   \n",
       "4                               75.1                               72.33   \n",
       "\n",
       "   chuva_acumulada_em_24h  chuva_acumulada_7_dias Estacao_Met_Aut estacao.1  \n",
       "0                     8.2                    16.8          Palmas   chuvosa  \n",
       "1                     8.2                    16.8          Palmas   chuvosa  \n",
       "2                     8.2                    16.8          Palmas   chuvosa  \n",
       "3                     8.2                    16.8          Palmas   chuvosa  \n",
       "4                     8.2                    16.8          Palmas   chuvosa  "
      ]
     },
     "execution_count": 36,
     "metadata": {},
     "output_type": "execute_result"
    }
   ],
   "source": [
    "df = pd.read_csv('data/casos_3.csv')\n",
    "df.head()"
   ]
  },
  {
   "cell_type": "code",
   "execution_count": 44,
   "metadata": {},
   "outputs": [
    {
     "data": {
      "text/plain": [
       "Index(['ID_do_caso', 'estacao', 'sexo', 'estagio_de_dec', 'riqueza',\n",
       "       'abundancia'],\n",
       "      dtype='object')"
      ]
     },
     "execution_count": 44,
     "metadata": {},
     "output_type": "execute_result"
    }
   ],
   "source": [
    "grouped_df = df.groupby(['ID_do_caso', 'estacao', 'Sexo', 'estagios_de_decomposicao', ])\\\n",
    ".agg({\n",
    "    'especie':'count',\n",
    "    'abundancia': 'sum'\n",
    "})\\\n",
    ".reset_index()\\\n",
    ".rename(columns = {'especie': 'riqueza', \n",
    "        'estagios_de_decomposicao': 'estagio_de_dec', \n",
    "        'Sexo': 'sexo'})\n",
    "\n",
    "grouped_df"
   ]
  },
  {
   "cell_type": "code",
   "execution_count": 45,
   "metadata": {},
   "outputs": [
    {
     "name": "stdout",
     "output_type": "stream",
     "text": [
      "Categorical columns           : ['estacao', 'sexo', 'estagio_de_dec']\n",
      "Categorical columns position  : [0, 1, 2]\n"
     ]
    }
   ],
   "source": [
    "df_analysis = grouped_df[[ 'estacao', 'sexo', 'estagio_de_dec', 'riqueza', 'abundancia']]\n",
    "\n",
    "catColumnsPos = [df_analysis.columns.get_loc(col) for col in list(df_analysis.select_dtypes('object').columns)]\n",
    "\n",
    "print('Categorical columns           : {}'.format(list(df_analysis.select_dtypes('object').columns)))\n",
    "\n",
    "print('Categorical columns position  : {}'.format(catColumnsPos))"
   ]
  },
  {
   "cell_type": "code",
   "execution_count": 51,
   "metadata": {},
   "outputs": [],
   "source": [
    "def associations_example():\n",
    "    associations(df_analysis,nominal_columns=['estacao', 'sexo', 'estagio_de_dec'])"
   ]
  },
  {
   "cell_type": "code",
   "execution_count": 52,
   "metadata": {},
   "outputs": [
    {
     "data": {
      "image/png": "[encoded data removed]",
      "text/plain": [
       "<Figure size 720x720 with 2 Axes>"
      ]
     },
     "metadata": {
      "needs_background": "light"
     },
     "output_type": "display_data"
    }
   ],
   "source": [
    "plt.rcParams[\"figure.figsize\"]=10,10\n",
    "associations_example()"
   ]
  },
  {
   "cell_type": "code",
   "execution_count": null,
   "metadata": {},
   "outputs": [],
   "source": []
  }
 ],
 "metadata": {
  "kernelspec": {
   "display_name": "Python 3 (ipykernel)",
   "language": "python",
   "name": "python3"
  },
  "language_info": {
   "codemirror_mode": {
    "name": "ipython",
    "version": 3
   },
   "file_extension": ".py",
   "mimetype": "text/x-python",
   "name": "python",
   "nbconvert_exporter": "python",
   "pygments_lexer": "ipython3",
   "version": "3.7.6"
  }
 },
 "nbformat": 4,
 "nbformat_minor": 4
}
